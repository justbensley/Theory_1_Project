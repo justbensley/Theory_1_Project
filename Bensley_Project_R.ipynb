{
  "nbformat": 4,
  "nbformat_minor": 0,
  "metadata": {
    "colab": {
      "provenance": []
    },
    "kernelspec": {
      "name": "ir",
      "display_name": "R"
    },
    "language_info": {
      "name": "R"
    }
  },
  "cells": [
    {
      "cell_type": "code",
      "execution_count": null,
      "metadata": {
        "id": "mcLhwiE0Wim4"
      },
      "outputs": [],
      "source": [
        "#The R code starts here\n",
        "install.packages(\"plyr\")\n",
        "install.packages(\"Rcpp\")\n",
        "install.packages(\"reshape2\")\n",
        "install.packages(\"RcppArmadillo\")\n",
        "install.packages(\"L0Learn\", repos = \"http://cran.rstudio.com\")"
      ]
    },
    {
      "cell_type": "code",
      "source": [
        "library('L0Learn')"
      ],
      "metadata": {
        "id": "_0NaiejnXneu"
      },
      "execution_count": null,
      "outputs": []
    },
    {
      "cell_type": "code",
      "source": [
        "#perform L0Learn method, get various values of lambda\n",
        "st=Sys.time()\n",
        "Y=read.csv('target.csv')\n",
        "X=read.csv('var.csv')\n",
        "\n",
        "\n",
        "Y=data.matrix(Y)\n",
        "X=data.matrix(X)\n",
        "\n",
        "print(Sys.time()-st)"
      ],
      "metadata": {
        "id": "hGwK6Ln4wN6J",
        "colab": {
          "base_uri": "https://localhost:8080/"
        },
        "outputId": "1811d7ae-f25c-4a17-e484-b96ad72b8e7f"
      },
      "execution_count": null,
      "outputs": [
        {
          "output_type": "stream",
          "name": "stdout",
          "text": [
            "Time difference of 0.5184736 secs\n"
          ]
        }
      ]
    },
    {
      "cell_type": "code",
      "source": [
        "f<-L0Learn.fit(X,Y,penalty='L0',maxSuppSize = 20)"
      ],
      "metadata": {
        "id": "46ubjRj21DT6"
      },
      "execution_count": null,
      "outputs": []
    },
    {
      "cell_type": "code",
      "source": [
        "print(f)"
      ],
      "metadata": {
        "colab": {
          "base_uri": "https://localhost:8080/",
          "height": 568
        },
        "id": "522k8HXe3V-q",
        "outputId": "c9cd9af2-b260-49c6-cb4d-11de874cd95f"
      },
      "execution_count": null,
      "outputs": [
        {
          "output_type": "display_data",
          "data": {
            "text/html": [
              "<table class=\"dataframe\">\n",
              "<caption>A data.frame: 15 × 3</caption>\n",
              "<thead>\n",
              "\t<tr><th scope=col>lambda</th><th scope=col>gamma</th><th scope=col>suppSize</th></tr>\n",
              "\t<tr><th scope=col>&lt;dbl&gt;</th><th scope=col>&lt;dbl&gt;</th><th scope=col>&lt;dbl&gt;</th></tr>\n",
              "</thead>\n",
              "<tbody>\n",
              "\t<tr><td>3.49624e-01</td><td>0</td><td> 0</td></tr>\n",
              "\t<tr><td>3.46127e-01</td><td>0</td><td> 1</td></tr>\n",
              "\t<tr><td>3.05955e-02</td><td>0</td><td> 2</td></tr>\n",
              "\t<tr><td>2.61290e-02</td><td>0</td><td> 3</td></tr>\n",
              "\t<tr><td>3.12656e-03</td><td>0</td><td> 4</td></tr>\n",
              "\t<tr><td>1.81551e-03</td><td>0</td><td> 6</td></tr>\n",
              "\t<tr><td>1.46770e-03</td><td>0</td><td> 7</td></tr>\n",
              "\t<tr><td>7.39553e-04</td><td>0</td><td> 9</td></tr>\n",
              "\t<tr><td>5.32893e-04</td><td>0</td><td>10</td></tr>\n",
              "\t<tr><td>3.96998e-04</td><td>0</td><td>11</td></tr>\n",
              "\t<tr><td>1.03138e-04</td><td>0</td><td>14</td></tr>\n",
              "\t<tr><td>7.16561e-05</td><td>0</td><td>16</td></tr>\n",
              "\t<tr><td>4.77703e-05</td><td>0</td><td>17</td></tr>\n",
              "\t<tr><td>3.34170e-05</td><td>0</td><td>19</td></tr>\n",
              "\t<tr><td>2.14183e-05</td><td>0</td><td>20</td></tr>\n",
              "</tbody>\n",
              "</table>\n"
            ],
            "text/markdown": "\nA data.frame: 15 × 3\n\n| lambda &lt;dbl&gt; | gamma &lt;dbl&gt; | suppSize &lt;dbl&gt; |\n|---|---|---|\n| 3.49624e-01 | 0 |  0 |\n| 3.46127e-01 | 0 |  1 |\n| 3.05955e-02 | 0 |  2 |\n| 2.61290e-02 | 0 |  3 |\n| 3.12656e-03 | 0 |  4 |\n| 1.81551e-03 | 0 |  6 |\n| 1.46770e-03 | 0 |  7 |\n| 7.39553e-04 | 0 |  9 |\n| 5.32893e-04 | 0 | 10 |\n| 3.96998e-04 | 0 | 11 |\n| 1.03138e-04 | 0 | 14 |\n| 7.16561e-05 | 0 | 16 |\n| 4.77703e-05 | 0 | 17 |\n| 3.34170e-05 | 0 | 19 |\n| 2.14183e-05 | 0 | 20 |\n\n",
            "text/latex": "A data.frame: 15 × 3\n\\begin{tabular}{lll}\n lambda & gamma & suppSize\\\\\n <dbl> & <dbl> & <dbl>\\\\\n\\hline\n\t 3.49624e-01 & 0 &  0\\\\\n\t 3.46127e-01 & 0 &  1\\\\\n\t 3.05955e-02 & 0 &  2\\\\\n\t 2.61290e-02 & 0 &  3\\\\\n\t 3.12656e-03 & 0 &  4\\\\\n\t 1.81551e-03 & 0 &  6\\\\\n\t 1.46770e-03 & 0 &  7\\\\\n\t 7.39553e-04 & 0 &  9\\\\\n\t 5.32893e-04 & 0 & 10\\\\\n\t 3.96998e-04 & 0 & 11\\\\\n\t 1.03138e-04 & 0 & 14\\\\\n\t 7.16561e-05 & 0 & 16\\\\\n\t 4.77703e-05 & 0 & 17\\\\\n\t 3.34170e-05 & 0 & 19\\\\\n\t 2.14183e-05 & 0 & 20\\\\\n\\end{tabular}\n",
            "text/plain": [
              "   lambda      gamma suppSize\n",
              "1  3.49624e-01 0      0      \n",
              "2  3.46127e-01 0      1      \n",
              "3  3.05955e-02 0      2      \n",
              "4  2.61290e-02 0      3      \n",
              "5  3.12656e-03 0      4      \n",
              "6  1.81551e-03 0      6      \n",
              "7  1.46770e-03 0      7      \n",
              "8  7.39553e-04 0      9      \n",
              "9  5.32893e-04 0     10      \n",
              "10 3.96998e-04 0     11      \n",
              "11 1.03138e-04 0     14      \n",
              "12 7.16561e-05 0     16      \n",
              "13 4.77703e-05 0     17      \n",
              "14 3.34170e-05 0     19      \n",
              "15 2.14183e-05 0     20      "
            ]
          },
          "metadata": {}
        }
      ]
    },
    {
      "cell_type": "code",
      "source": [
        "#choose lambda such that we get 14 variables returned\n",
        "coef(f, lambda=0.000103138, gamma=0)"
      ],
      "metadata": {
        "colab": {
          "base_uri": "https://localhost:8080/",
          "height": 1000
        },
        "id": "wb8JkIpI7XL6",
        "outputId": "061891cc-f78d-47d7-a15e-22de2a578e27"
      },
      "execution_count": null,
      "outputs": [
        {
          "output_type": "display_data",
          "data": {
            "text/plain": [
              "65 x 1 sparse Matrix of class \"dgCMatrix\"\n",
              "                       \n",
              "Intercept -1.191133e+01\n",
              "V1         1.136719e-07\n",
              "V2         5.433629e-01\n",
              "V3         4.975609e-01\n",
              "V4         .           \n",
              "V5         3.261149e-02\n",
              "V6         .           \n",
              "V7         .           \n",
              "V8         .           \n",
              "V9         8.672149e-02\n",
              "V10        5.209585e-02\n",
              "V11        .           \n",
              "V12        .           \n",
              "V13        .           \n",
              "V14        .           \n",
              "V15        .           \n",
              "V16        .           \n",
              "V17        .           \n",
              "V18        .           \n",
              "V19        .           \n",
              "V20        .           \n",
              "V21        5.311678e-02\n",
              "V22        .           \n",
              "V23        .           \n",
              "V24        .           \n",
              "V25        .           \n",
              "V26        1.069562e-02\n",
              "V27        .           \n",
              "V28       -2.235695e-02\n",
              "V29        1.203743e-01\n",
              "V30        3.911532e-02\n",
              "V31        .           \n",
              "V32        .           \n",
              "V33        2.880280e-02\n",
              "V34        2.250550e-02\n",
              "V35        .           \n",
              "V36        3.629213e-02\n",
              "V37        .           \n",
              "V38        .           \n",
              "V39        .           \n",
              "V40        .           \n",
              "V41        .           \n",
              "V42        .           \n",
              "V43        .           \n",
              "V44        .           \n",
              "V45        .           \n",
              "V46        .           \n",
              "V47        .           \n",
              "V48        .           \n",
              "V49        .           \n",
              "V50        .           \n",
              "V51        .           \n",
              "V52        .           \n",
              "V53        .           \n",
              "V54        .           \n",
              "V55        .           \n",
              "V56        .           \n",
              "V57        .           \n",
              "V58        .           \n",
              "V59        .           \n",
              "V60        .           \n",
              "V61        .           \n",
              "V62        .           \n",
              "V63        .           \n",
              "V64        .           "
            ]
          },
          "metadata": {}
        }
      ]
    },
    {
      "cell_type": "code",
      "source": [],
      "metadata": {
        "id": "msXtRIzhDiO1"
      },
      "execution_count": null,
      "outputs": []
    }
  ]
}