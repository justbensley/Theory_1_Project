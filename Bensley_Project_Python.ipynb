{
  "nbformat": 4,
  "nbformat_minor": 0,
  "metadata": {
    "colab": {
      "provenance": []
    },
    "kernelspec": {
      "name": "python3",
      "display_name": "Python 3"
    },
    "language_info": {
      "name": "python"
    }
  },
  "cells": [
    {
      "cell_type": "code",
      "execution_count": null,
      "metadata": {
        "id": "_izvtOKIPbxg"
      },
      "outputs": [],
      "source": [
        "#The Python code starts here until the R code starts\n",
        "\n",
        "\n",
        "\n",
        "\n",
        "import numpy as np\n",
        "import pandas as pd\n",
        "import matplotlib.pyplot as plt\n",
        "from sklearn.linear_model import Lasso, LogisticRegression , LinearRegression\n",
        "from sklearn.feature_selection import SelectFromModel\n",
        "from sklearn.feature_selection import SequentialFeatureSelector\n",
        "!pip install asgl\n",
        "import asgl\n",
        "import time"
      ]
    },
    {
      "cell_type": "code",
      "source": [
        "#load in data\n",
        "dat=pd.read_csv('fifa18_clean.csv')"
      ],
      "metadata": {
        "id": "tKHBdKezU219"
      },
      "execution_count": null,
      "outputs": []
    },
    {
      "cell_type": "code",
      "source": [
        "\n",
        "#remove non numerical columns\n",
        "dat=dat.drop(['Name','Photo','Nationality','Flag','Club','Club Logo','Wage (€)','Preferred Positions','ID'],axis=1)\n",
        "dat=dat.dropna()\n",
        "dat.head()"
      ],
      "metadata": {
        "colab": {
          "base_uri": "https://localhost:8080/",
          "height": 235
        },
        "id": "KOOf0ZzZU9R_",
        "outputId": "706d6b12-8489-4987-e2dd-81efa19bac7c"
      },
      "execution_count": null,
      "outputs": [
        {
          "output_type": "execute_result",
          "data": {
            "text/plain": [
              "   Value (€)  Age  Overall  Potential  Special  Acceleration  Aggression  \\\n",
              "0   95500000   32       94         94     2228          89.0        63.0   \n",
              "1  105000000   30       93         93     2154          92.0        48.0   \n",
              "2  123000000   25       92         94     2100          94.0        56.0   \n",
              "3   97000000   30       92         92     2291          88.0        78.0   \n",
              "5   92000000   28       91         91     2143          79.0        80.0   \n",
              "\n",
              "   Agility  Balance  Ball control  ...    RB   RCB   RCM   RDM    RF    RM  \\\n",
              "0     89.0     63.0          93.0  ...  61.0  53.0  82.0  62.0  91.0  89.0   \n",
              "1     90.0     95.0          95.0  ...  57.0  45.0  84.0  59.0  92.0  90.0   \n",
              "2     96.0     82.0          95.0  ...  59.0  46.0  79.0  59.0  88.0  87.0   \n",
              "3     86.0     60.0          91.0  ...  64.0  58.0  80.0  65.0  88.0  85.0   \n",
              "5     78.0     80.0          89.0  ...  58.0  57.0  78.0  62.0  87.0  82.0   \n",
              "\n",
              "     RS    RW   RWB    ST  \n",
              "0  92.0  91.0  66.0  92.0  \n",
              "1  88.0  91.0  62.0  88.0  \n",
              "2  84.0  89.0  64.0  84.0  \n",
              "3  88.0  87.0  68.0  88.0  \n",
              "5  88.0  84.0  61.0  88.0  \n",
              "\n",
              "[5 rows x 65 columns]"
            ],
            "text/html": [
              "\n",
              "  <div id=\"df-54534a89-5d14-4b8e-b132-1a017c262349\">\n",
              "    <div class=\"colab-df-container\">\n",
              "      <div>\n",
              "<style scoped>\n",
              "    .dataframe tbody tr th:only-of-type {\n",
              "        vertical-align: middle;\n",
              "    }\n",
              "\n",
              "    .dataframe tbody tr th {\n",
              "        vertical-align: top;\n",
              "    }\n",
              "\n",
              "    .dataframe thead th {\n",
              "        text-align: right;\n",
              "    }\n",
              "</style>\n",
              "<table border=\"1\" class=\"dataframe\">\n",
              "  <thead>\n",
              "    <tr style=\"text-align: right;\">\n",
              "      <th></th>\n",
              "      <th>Value (€)</th>\n",
              "      <th>Age</th>\n",
              "      <th>Overall</th>\n",
              "      <th>Potential</th>\n",
              "      <th>Special</th>\n",
              "      <th>Acceleration</th>\n",
              "      <th>Aggression</th>\n",
              "      <th>Agility</th>\n",
              "      <th>Balance</th>\n",
              "      <th>Ball control</th>\n",
              "      <th>...</th>\n",
              "      <th>RB</th>\n",
              "      <th>RCB</th>\n",
              "      <th>RCM</th>\n",
              "      <th>RDM</th>\n",
              "      <th>RF</th>\n",
              "      <th>RM</th>\n",
              "      <th>RS</th>\n",
              "      <th>RW</th>\n",
              "      <th>RWB</th>\n",
              "      <th>ST</th>\n",
              "    </tr>\n",
              "  </thead>\n",
              "  <tbody>\n",
              "    <tr>\n",
              "      <th>0</th>\n",
              "      <td>95500000</td>\n",
              "      <td>32</td>\n",
              "      <td>94</td>\n",
              "      <td>94</td>\n",
              "      <td>2228</td>\n",
              "      <td>89.0</td>\n",
              "      <td>63.0</td>\n",
              "      <td>89.0</td>\n",
              "      <td>63.0</td>\n",
              "      <td>93.0</td>\n",
              "      <td>...</td>\n",
              "      <td>61.0</td>\n",
              "      <td>53.0</td>\n",
              "      <td>82.0</td>\n",
              "      <td>62.0</td>\n",
              "      <td>91.0</td>\n",
              "      <td>89.0</td>\n",
              "      <td>92.0</td>\n",
              "      <td>91.0</td>\n",
              "      <td>66.0</td>\n",
              "      <td>92.0</td>\n",
              "    </tr>\n",
              "    <tr>\n",
              "      <th>1</th>\n",
              "      <td>105000000</td>\n",
              "      <td>30</td>\n",
              "      <td>93</td>\n",
              "      <td>93</td>\n",
              "      <td>2154</td>\n",
              "      <td>92.0</td>\n",
              "      <td>48.0</td>\n",
              "      <td>90.0</td>\n",
              "      <td>95.0</td>\n",
              "      <td>95.0</td>\n",
              "      <td>...</td>\n",
              "      <td>57.0</td>\n",
              "      <td>45.0</td>\n",
              "      <td>84.0</td>\n",
              "      <td>59.0</td>\n",
              "      <td>92.0</td>\n",
              "      <td>90.0</td>\n",
              "      <td>88.0</td>\n",
              "      <td>91.0</td>\n",
              "      <td>62.0</td>\n",
              "      <td>88.0</td>\n",
              "    </tr>\n",
              "    <tr>\n",
              "      <th>2</th>\n",
              "      <td>123000000</td>\n",
              "      <td>25</td>\n",
              "      <td>92</td>\n",
              "      <td>94</td>\n",
              "      <td>2100</td>\n",
              "      <td>94.0</td>\n",
              "      <td>56.0</td>\n",
              "      <td>96.0</td>\n",
              "      <td>82.0</td>\n",
              "      <td>95.0</td>\n",
              "      <td>...</td>\n",
              "      <td>59.0</td>\n",
              "      <td>46.0</td>\n",
              "      <td>79.0</td>\n",
              "      <td>59.0</td>\n",
              "      <td>88.0</td>\n",
              "      <td>87.0</td>\n",
              "      <td>84.0</td>\n",
              "      <td>89.0</td>\n",
              "      <td>64.0</td>\n",
              "      <td>84.0</td>\n",
              "    </tr>\n",
              "    <tr>\n",
              "      <th>3</th>\n",
              "      <td>97000000</td>\n",
              "      <td>30</td>\n",
              "      <td>92</td>\n",
              "      <td>92</td>\n",
              "      <td>2291</td>\n",
              "      <td>88.0</td>\n",
              "      <td>78.0</td>\n",
              "      <td>86.0</td>\n",
              "      <td>60.0</td>\n",
              "      <td>91.0</td>\n",
              "      <td>...</td>\n",
              "      <td>64.0</td>\n",
              "      <td>58.0</td>\n",
              "      <td>80.0</td>\n",
              "      <td>65.0</td>\n",
              "      <td>88.0</td>\n",
              "      <td>85.0</td>\n",
              "      <td>88.0</td>\n",
              "      <td>87.0</td>\n",
              "      <td>68.0</td>\n",
              "      <td>88.0</td>\n",
              "    </tr>\n",
              "    <tr>\n",
              "      <th>5</th>\n",
              "      <td>92000000</td>\n",
              "      <td>28</td>\n",
              "      <td>91</td>\n",
              "      <td>91</td>\n",
              "      <td>2143</td>\n",
              "      <td>79.0</td>\n",
              "      <td>80.0</td>\n",
              "      <td>78.0</td>\n",
              "      <td>80.0</td>\n",
              "      <td>89.0</td>\n",
              "      <td>...</td>\n",
              "      <td>58.0</td>\n",
              "      <td>57.0</td>\n",
              "      <td>78.0</td>\n",
              "      <td>62.0</td>\n",
              "      <td>87.0</td>\n",
              "      <td>82.0</td>\n",
              "      <td>88.0</td>\n",
              "      <td>84.0</td>\n",
              "      <td>61.0</td>\n",
              "      <td>88.0</td>\n",
              "    </tr>\n",
              "  </tbody>\n",
              "</table>\n",
              "<p>5 rows × 65 columns</p>\n",
              "</div>\n",
              "      <button class=\"colab-df-convert\" onclick=\"convertToInteractive('df-54534a89-5d14-4b8e-b132-1a017c262349')\"\n",
              "              title=\"Convert this dataframe to an interactive table.\"\n",
              "              style=\"display:none;\">\n",
              "        \n",
              "  <svg xmlns=\"http://www.w3.org/2000/svg\" height=\"24px\"viewBox=\"0 0 24 24\"\n",
              "       width=\"24px\">\n",
              "    <path d=\"M0 0h24v24H0V0z\" fill=\"none\"/>\n",
              "    <path d=\"M18.56 5.44l.94 2.06.94-2.06 2.06-.94-2.06-.94-.94-2.06-.94 2.06-2.06.94zm-11 1L8.5 8.5l.94-2.06 2.06-.94-2.06-.94L8.5 2.5l-.94 2.06-2.06.94zm10 10l.94 2.06.94-2.06 2.06-.94-2.06-.94-.94-2.06-.94 2.06-2.06.94z\"/><path d=\"M17.41 7.96l-1.37-1.37c-.4-.4-.92-.59-1.43-.59-.52 0-1.04.2-1.43.59L10.3 9.45l-7.72 7.72c-.78.78-.78 2.05 0 2.83L4 21.41c.39.39.9.59 1.41.59.51 0 1.02-.2 1.41-.59l7.78-7.78 2.81-2.81c.8-.78.8-2.07 0-2.86zM5.41 20L4 18.59l7.72-7.72 1.47 1.35L5.41 20z\"/>\n",
              "  </svg>\n",
              "      </button>\n",
              "      \n",
              "  <style>\n",
              "    .colab-df-container {\n",
              "      display:flex;\n",
              "      flex-wrap:wrap;\n",
              "      gap: 12px;\n",
              "    }\n",
              "\n",
              "    .colab-df-convert {\n",
              "      background-color: #E8F0FE;\n",
              "      border: none;\n",
              "      border-radius: 50%;\n",
              "      cursor: pointer;\n",
              "      display: none;\n",
              "      fill: #1967D2;\n",
              "      height: 32px;\n",
              "      padding: 0 0 0 0;\n",
              "      width: 32px;\n",
              "    }\n",
              "\n",
              "    .colab-df-convert:hover {\n",
              "      background-color: #E2EBFA;\n",
              "      box-shadow: 0px 1px 2px rgba(60, 64, 67, 0.3), 0px 1px 3px 1px rgba(60, 64, 67, 0.15);\n",
              "      fill: #174EA6;\n",
              "    }\n",
              "\n",
              "    [theme=dark] .colab-df-convert {\n",
              "      background-color: #3B4455;\n",
              "      fill: #D2E3FC;\n",
              "    }\n",
              "\n",
              "    [theme=dark] .colab-df-convert:hover {\n",
              "      background-color: #434B5C;\n",
              "      box-shadow: 0px 1px 3px 1px rgba(0, 0, 0, 0.15);\n",
              "      filter: drop-shadow(0px 1px 2px rgba(0, 0, 0, 0.3));\n",
              "      fill: #FFFFFF;\n",
              "    }\n",
              "  </style>\n",
              "\n",
              "      <script>\n",
              "        const buttonEl =\n",
              "          document.querySelector('#df-54534a89-5d14-4b8e-b132-1a017c262349 button.colab-df-convert');\n",
              "        buttonEl.style.display =\n",
              "          google.colab.kernel.accessAllowed ? 'block' : 'none';\n",
              "\n",
              "        async function convertToInteractive(key) {\n",
              "          const element = document.querySelector('#df-54534a89-5d14-4b8e-b132-1a017c262349');\n",
              "          const dataTable =\n",
              "            await google.colab.kernel.invokeFunction('convertToInteractive',\n",
              "                                                     [key], {});\n",
              "          if (!dataTable) return;\n",
              "\n",
              "          const docLinkHtml = 'Like what you see? Visit the ' +\n",
              "            '<a target=\"_blank\" href=https://colab.research.google.com/notebooks/data_table.ipynb>data table notebook</a>'\n",
              "            + ' to learn more about interactive tables.';\n",
              "          element.innerHTML = '';\n",
              "          dataTable['output_type'] = 'display_data';\n",
              "          await google.colab.output.renderOutput(dataTable, element);\n",
              "          const docLink = document.createElement('div');\n",
              "          docLink.innerHTML = docLinkHtml;\n",
              "          element.appendChild(docLink);\n",
              "        }\n",
              "      </script>\n",
              "    </div>\n",
              "  </div>\n",
              "  "
            ]
          },
          "metadata": {},
          "execution_count": 36
        }
      ]
    },
    {
      "cell_type": "code",
      "source": [
        "#split the dataframe into variables and target\n",
        "targ=dat['Overall']\n",
        "var=dat.drop('Overall',axis=1)\n",
        "\n",
        "\n",
        "targ.to_csv(r'/content/target.csv',index=False,header=True)\n",
        "var.to_csv(r'/content/var.csv',index=False,header=True)"
      ],
      "metadata": {
        "id": "Nb18M4A5Vigu"
      },
      "execution_count": null,
      "outputs": []
    },
    {
      "cell_type": "code",
      "source": [
        "#perform LASSO\n",
        "\n",
        "ts=time.time()\n",
        "las=SelectFromModel(Lasso(alpha=1,random_state=10))\n",
        "las.fit(var,targ)\n",
        "a=las.get_support()\n",
        "lv=var.drop(np.array(var.columns[(las.estimator_.coef_==0).ravel().tolist()]),axis=1)\n",
        "tss=time.time()\n",
        "print(tss-ts)"
      ],
      "metadata": {
        "id": "TnIZWRHhjuTH",
        "colab": {
          "base_uri": "https://localhost:8080/"
        },
        "outputId": "8bb3bfe3-a173-4226-e2c8-f316a194a63f"
      },
      "execution_count": null,
      "outputs": [
        {
          "output_type": "stream",
          "name": "stdout",
          "text": [
            "0.11608600616455078\n"
          ]
        }
      ]
    },
    {
      "cell_type": "code",
      "source": [
        "lv.head()"
      ],
      "metadata": {
        "colab": {
          "base_uri": "https://localhost:8080/",
          "height": 206
        },
        "id": "5olnDrkSNenA",
        "outputId": "0a7ba36c-099f-4d61-e866-49d3c5e148dd"
      },
      "execution_count": null,
      "outputs": [
        {
          "output_type": "execute_result",
          "data": {
            "text/plain": [
              "   Value (€)  Age  Potential  Special  Acceleration  Balance  Ball control  \\\n",
              "0   95500000   32         94     2228          89.0     63.0          93.0   \n",
              "1  105000000   30         93     2154          92.0     95.0          95.0   \n",
              "2  123000000   25         94     2100          94.0     82.0          95.0   \n",
              "3   97000000   30         92     2291          88.0     60.0          91.0   \n",
              "5   92000000   28         91     2143          79.0     80.0          89.0   \n",
              "\n",
              "   Composure  Free kick accuracy  Heading accuracy  Long shots  Positioning  \\\n",
              "0       95.0                76.0              88.0        92.0         95.0   \n",
              "1       96.0                90.0              71.0        88.0         93.0   \n",
              "2       92.0                84.0              62.0        77.0         90.0   \n",
              "3       83.0                84.0              77.0        86.0         92.0   \n",
              "5       87.0                84.0              85.0        83.0         91.0   \n",
              "\n",
              "   Reactions  Short passing  Sprint speed  Stamina  Strength  Vision  \n",
              "0       96.0           83.0          91.0     92.0      80.0    85.0  \n",
              "1       95.0           88.0          87.0     73.0      59.0    90.0  \n",
              "2       88.0           81.0          90.0     78.0      53.0    80.0  \n",
              "3       93.0           83.0          77.0     89.0      80.0    84.0  \n",
              "5       91.0           83.0          83.0     79.0      84.0    78.0  "
            ],
            "text/html": [
              "\n",
              "  <div id=\"df-2d13d0a9-f8f8-4634-b84e-e02dd955c01d\">\n",
              "    <div class=\"colab-df-container\">\n",
              "      <div>\n",
              "<style scoped>\n",
              "    .dataframe tbody tr th:only-of-type {\n",
              "        vertical-align: middle;\n",
              "    }\n",
              "\n",
              "    .dataframe tbody tr th {\n",
              "        vertical-align: top;\n",
              "    }\n",
              "\n",
              "    .dataframe thead th {\n",
              "        text-align: right;\n",
              "    }\n",
              "</style>\n",
              "<table border=\"1\" class=\"dataframe\">\n",
              "  <thead>\n",
              "    <tr style=\"text-align: right;\">\n",
              "      <th></th>\n",
              "      <th>Value (€)</th>\n",
              "      <th>Age</th>\n",
              "      <th>Potential</th>\n",
              "      <th>Special</th>\n",
              "      <th>Acceleration</th>\n",
              "      <th>Balance</th>\n",
              "      <th>Ball control</th>\n",
              "      <th>Composure</th>\n",
              "      <th>Free kick accuracy</th>\n",
              "      <th>Heading accuracy</th>\n",
              "      <th>Long shots</th>\n",
              "      <th>Positioning</th>\n",
              "      <th>Reactions</th>\n",
              "      <th>Short passing</th>\n",
              "      <th>Sprint speed</th>\n",
              "      <th>Stamina</th>\n",
              "      <th>Strength</th>\n",
              "      <th>Vision</th>\n",
              "    </tr>\n",
              "  </thead>\n",
              "  <tbody>\n",
              "    <tr>\n",
              "      <th>0</th>\n",
              "      <td>95500000</td>\n",
              "      <td>32</td>\n",
              "      <td>94</td>\n",
              "      <td>2228</td>\n",
              "      <td>89.0</td>\n",
              "      <td>63.0</td>\n",
              "      <td>93.0</td>\n",
              "      <td>95.0</td>\n",
              "      <td>76.0</td>\n",
              "      <td>88.0</td>\n",
              "      <td>92.0</td>\n",
              "      <td>95.0</td>\n",
              "      <td>96.0</td>\n",
              "      <td>83.0</td>\n",
              "      <td>91.0</td>\n",
              "      <td>92.0</td>\n",
              "      <td>80.0</td>\n",
              "      <td>85.0</td>\n",
              "    </tr>\n",
              "    <tr>\n",
              "      <th>1</th>\n",
              "      <td>105000000</td>\n",
              "      <td>30</td>\n",
              "      <td>93</td>\n",
              "      <td>2154</td>\n",
              "      <td>92.0</td>\n",
              "      <td>95.0</td>\n",
              "      <td>95.0</td>\n",
              "      <td>96.0</td>\n",
              "      <td>90.0</td>\n",
              "      <td>71.0</td>\n",
              "      <td>88.0</td>\n",
              "      <td>93.0</td>\n",
              "      <td>95.0</td>\n",
              "      <td>88.0</td>\n",
              "      <td>87.0</td>\n",
              "      <td>73.0</td>\n",
              "      <td>59.0</td>\n",
              "      <td>90.0</td>\n",
              "    </tr>\n",
              "    <tr>\n",
              "      <th>2</th>\n",
              "      <td>123000000</td>\n",
              "      <td>25</td>\n",
              "      <td>94</td>\n",
              "      <td>2100</td>\n",
              "      <td>94.0</td>\n",
              "      <td>82.0</td>\n",
              "      <td>95.0</td>\n",
              "      <td>92.0</td>\n",
              "      <td>84.0</td>\n",
              "      <td>62.0</td>\n",
              "      <td>77.0</td>\n",
              "      <td>90.0</td>\n",
              "      <td>88.0</td>\n",
              "      <td>81.0</td>\n",
              "      <td>90.0</td>\n",
              "      <td>78.0</td>\n",
              "      <td>53.0</td>\n",
              "      <td>80.0</td>\n",
              "    </tr>\n",
              "    <tr>\n",
              "      <th>3</th>\n",
              "      <td>97000000</td>\n",
              "      <td>30</td>\n",
              "      <td>92</td>\n",
              "      <td>2291</td>\n",
              "      <td>88.0</td>\n",
              "      <td>60.0</td>\n",
              "      <td>91.0</td>\n",
              "      <td>83.0</td>\n",
              "      <td>84.0</td>\n",
              "      <td>77.0</td>\n",
              "      <td>86.0</td>\n",
              "      <td>92.0</td>\n",
              "      <td>93.0</td>\n",
              "      <td>83.0</td>\n",
              "      <td>77.0</td>\n",
              "      <td>89.0</td>\n",
              "      <td>80.0</td>\n",
              "      <td>84.0</td>\n",
              "    </tr>\n",
              "    <tr>\n",
              "      <th>5</th>\n",
              "      <td>92000000</td>\n",
              "      <td>28</td>\n",
              "      <td>91</td>\n",
              "      <td>2143</td>\n",
              "      <td>79.0</td>\n",
              "      <td>80.0</td>\n",
              "      <td>89.0</td>\n",
              "      <td>87.0</td>\n",
              "      <td>84.0</td>\n",
              "      <td>85.0</td>\n",
              "      <td>83.0</td>\n",
              "      <td>91.0</td>\n",
              "      <td>91.0</td>\n",
              "      <td>83.0</td>\n",
              "      <td>83.0</td>\n",
              "      <td>79.0</td>\n",
              "      <td>84.0</td>\n",
              "      <td>78.0</td>\n",
              "    </tr>\n",
              "  </tbody>\n",
              "</table>\n",
              "</div>\n",
              "      <button class=\"colab-df-convert\" onclick=\"convertToInteractive('df-2d13d0a9-f8f8-4634-b84e-e02dd955c01d')\"\n",
              "              title=\"Convert this dataframe to an interactive table.\"\n",
              "              style=\"display:none;\">\n",
              "        \n",
              "  <svg xmlns=\"http://www.w3.org/2000/svg\" height=\"24px\"viewBox=\"0 0 24 24\"\n",
              "       width=\"24px\">\n",
              "    <path d=\"M0 0h24v24H0V0z\" fill=\"none\"/>\n",
              "    <path d=\"M18.56 5.44l.94 2.06.94-2.06 2.06-.94-2.06-.94-.94-2.06-.94 2.06-2.06.94zm-11 1L8.5 8.5l.94-2.06 2.06-.94-2.06-.94L8.5 2.5l-.94 2.06-2.06.94zm10 10l.94 2.06.94-2.06 2.06-.94-2.06-.94-.94-2.06-.94 2.06-2.06.94z\"/><path d=\"M17.41 7.96l-1.37-1.37c-.4-.4-.92-.59-1.43-.59-.52 0-1.04.2-1.43.59L10.3 9.45l-7.72 7.72c-.78.78-.78 2.05 0 2.83L4 21.41c.39.39.9.59 1.41.59.51 0 1.02-.2 1.41-.59l7.78-7.78 2.81-2.81c.8-.78.8-2.07 0-2.86zM5.41 20L4 18.59l7.72-7.72 1.47 1.35L5.41 20z\"/>\n",
              "  </svg>\n",
              "      </button>\n",
              "      \n",
              "  <style>\n",
              "    .colab-df-container {\n",
              "      display:flex;\n",
              "      flex-wrap:wrap;\n",
              "      gap: 12px;\n",
              "    }\n",
              "\n",
              "    .colab-df-convert {\n",
              "      background-color: #E8F0FE;\n",
              "      border: none;\n",
              "      border-radius: 50%;\n",
              "      cursor: pointer;\n",
              "      display: none;\n",
              "      fill: #1967D2;\n",
              "      height: 32px;\n",
              "      padding: 0 0 0 0;\n",
              "      width: 32px;\n",
              "    }\n",
              "\n",
              "    .colab-df-convert:hover {\n",
              "      background-color: #E2EBFA;\n",
              "      box-shadow: 0px 1px 2px rgba(60, 64, 67, 0.3), 0px 1px 3px 1px rgba(60, 64, 67, 0.15);\n",
              "      fill: #174EA6;\n",
              "    }\n",
              "\n",
              "    [theme=dark] .colab-df-convert {\n",
              "      background-color: #3B4455;\n",
              "      fill: #D2E3FC;\n",
              "    }\n",
              "\n",
              "    [theme=dark] .colab-df-convert:hover {\n",
              "      background-color: #434B5C;\n",
              "      box-shadow: 0px 1px 3px 1px rgba(0, 0, 0, 0.15);\n",
              "      filter: drop-shadow(0px 1px 2px rgba(0, 0, 0, 0.3));\n",
              "      fill: #FFFFFF;\n",
              "    }\n",
              "  </style>\n",
              "\n",
              "      <script>\n",
              "        const buttonEl =\n",
              "          document.querySelector('#df-2d13d0a9-f8f8-4634-b84e-e02dd955c01d button.colab-df-convert');\n",
              "        buttonEl.style.display =\n",
              "          google.colab.kernel.accessAllowed ? 'block' : 'none';\n",
              "\n",
              "        async function convertToInteractive(key) {\n",
              "          const element = document.querySelector('#df-2d13d0a9-f8f8-4634-b84e-e02dd955c01d');\n",
              "          const dataTable =\n",
              "            await google.colab.kernel.invokeFunction('convertToInteractive',\n",
              "                                                     [key], {});\n",
              "          if (!dataTable) return;\n",
              "\n",
              "          const docLinkHtml = 'Like what you see? Visit the ' +\n",
              "            '<a target=\"_blank\" href=https://colab.research.google.com/notebooks/data_table.ipynb>data table notebook</a>'\n",
              "            + ' to learn more about interactive tables.';\n",
              "          element.innerHTML = '';\n",
              "          dataTable['output_type'] = 'display_data';\n",
              "          await google.colab.output.renderOutput(dataTable, element);\n",
              "          const docLink = document.createElement('div');\n",
              "          docLink.innerHTML = docLinkHtml;\n",
              "          element.appendChild(docLink);\n",
              "        }\n",
              "      </script>\n",
              "    </div>\n",
              "  </div>\n",
              "  "
            ]
          },
          "metadata": {},
          "execution_count": 98
        }
      ]
    },
    {
      "cell_type": "code",
      "source": [
        "#perform adaptive lasso\n",
        "\n",
        "\n",
        "ts=time.time()\n",
        "alasso = asgl.TVT(model='lm', penalization='alasso', lambda1= .001*np.arange(0, 10, 0.1),parallel=True,\n",
        "                      weight_technique='lasso', error_type='MSE', random_state=1)\n",
        "alasso_result = alasso.train_validate_test(x=var.to_numpy(), y=targ.to_numpy())\n",
        "print(time.time()-ts)"
      ],
      "metadata": {
        "colab": {
          "base_uri": "https://localhost:8080/"
        },
        "id": "OFZ750tBkywn",
        "outputId": "4be6633a-d9cb-45db-863d-d381bca0f65f"
      },
      "execution_count": null,
      "outputs": [
        {
          "output_type": "stream",
          "name": "stderr",
          "text": [
            "/usr/local/lib/python3.8/dist-packages/cvxpy/problems/problem.py:1337: UserWarning: Solution may be inaccurate. Try another solver, adjusting the solver settings, or solve with verbose=True for more information.\n",
            "  warnings.warn(\n"
          ]
        },
        {
          "output_type": "stream",
          "name": "stdout",
          "text": [
            "15.491676330566406\n"
          ]
        }
      ]
    },
    {
      "cell_type": "code",
      "source": [
        "alv=var.columns[np.nonzero(alasso_result['optimal_betas'][1:])]\n",
        "alv2=var[alv]"
      ],
      "metadata": {
        "id": "_KGTLRHblRB7"
      },
      "execution_count": null,
      "outputs": []
    },
    {
      "cell_type": "code",
      "source": [
        "#Lasso + forward elimination\n",
        "\n",
        "ts=time.time()\n",
        "las=SelectFromModel(Lasso(alpha=.2,random_state=10))\n",
        "las.fit(var,targ)\n",
        "a=las.get_support()\n",
        "var2=var.drop(np.array(var.columns[(las.estimator_.coef_==0).ravel().tolist()]),axis=1)\n",
        "\n",
        "vsel=var2.iloc[:,0:1]\n",
        "model=LinearRegression().fit(vsel,targ)\n",
        "vselscore=(model.score(vsel,targ))\n",
        "for i in np.arange(0,len(var2.columns)):\n",
        "  v=var2.iloc[:,i:i+1]\n",
        "  model=LinearRegression().fit(v,targ)\n",
        "  vscore=model.score(v,targ)\n",
        "  if(vscore>vselscore):\n",
        "    vselscore=vscore\n",
        "    vsel=v\n",
        "var2=var2.drop(vsel,axis=1)\n",
        "vog=vselscore\n",
        "vt=vsel\n",
        "\n",
        "j=0\n",
        "k=0\n",
        "while j==0:\n",
        "  vselscore=0\n",
        "  for i in np.arange(0,len(var2.columns)):\n",
        "    v1=var2.iloc[:,i:i+1]\n",
        "    v=pd.concat([vt,v1],axis=1)\n",
        "    model=LinearRegression().fit(v,targ)\n",
        "    vscore=model.score(v,targ)\n",
        "    if(vscore>vselscore):\n",
        "      vselscore=vscore\n",
        "      vsel=v1\n",
        "  \n",
        "\n",
        "\n",
        "  if(-vog+vselscore <= .001):\n",
        "    j=1\n",
        "  \n",
        "  if(-vog+vselscore>.001):\n",
        "    vt=pd.concat([vt,vsel],axis=1)\n",
        "    vog=vselscore\n",
        "    var2=var2.drop(vsel,axis=1)\n",
        "  print(vog)\n",
        "  k=k+1\n",
        "  if(k>40):\n",
        "    j=1\n",
        "\n",
        "print(time.time()-ts)"
      ],
      "metadata": {
        "id": "ZTUO8fWUr0Oe",
        "colab": {
          "base_uri": "https://localhost:8080/"
        },
        "outputId": "129efc60-37a9-4d91-afd4-4059114df34f"
      },
      "execution_count": null,
      "outputs": [
        {
          "output_type": "stream",
          "name": "stdout",
          "text": [
            "0.7826647641019246\n",
            "0.8906682344248837\n",
            "0.9031338121742389\n",
            "0.909382788072085\n",
            "0.9147208335562252\n",
            "0.9171800828479997\n",
            "0.9198402609045595\n",
            "0.9220698482222343\n",
            "0.9239793025917172\n",
            "0.9266109722306634\n",
            "0.9266109722306634\n",
            "4.020595073699951\n"
          ]
        }
      ]
    },
    {
      "cell_type": "code",
      "source": [
        "vt"
      ],
      "metadata": {
        "colab": {
          "base_uri": "https://localhost:8080/",
          "height": 424
        },
        "id": "q322uNYfEgdb",
        "outputId": "d103b211-7871-475b-cf24-bb755c872da3"
      },
      "execution_count": null,
      "outputs": [
        {
          "output_type": "execute_result",
          "data": {
            "text/plain": [
              "       Reactions  Potential  Age  Special  Heading accuracy  Value (€)  \\\n",
              "0           96.0         94   32     2228              88.0   95500000   \n",
              "1           95.0         93   30     2154              71.0  105000000   \n",
              "2           88.0         94   25     2100              62.0  123000000   \n",
              "3           93.0         92   30     2291              77.0   97000000   \n",
              "5           91.0         91   28     2143              85.0   92000000   \n",
              "...          ...        ...  ...      ...               ...        ...   \n",
              "17974       48.0         56   18     1105              43.0      40000   \n",
              "17975       47.0         46   28     1174              38.0      30000   \n",
              "17978       54.0         61   17     1194              47.0      60000   \n",
              "17979       49.0         64   18     1302              40.0      60000   \n",
              "17980       40.0         64   18     1031              48.0      50000   \n",
              "\n",
              "       Sprint speed  Composure  Strength  Ball control  Positioning  \n",
              "0              91.0       95.0      80.0          93.0         95.0  \n",
              "1              87.0       96.0      59.0          95.0         93.0  \n",
              "2              90.0       92.0      53.0          95.0         90.0  \n",
              "3              77.0       83.0      80.0          91.0         92.0  \n",
              "5              83.0       87.0      84.0          89.0         91.0  \n",
              "...             ...        ...       ...           ...          ...  \n",
              "17974          60.0       37.0      42.0          34.0         27.0  \n",
              "17975          22.0       42.0      37.0          46.0         39.0  \n",
              "17978          51.0       50.0      32.0          41.0         46.0  \n",
              "17979          58.0       45.0      46.0          43.0         37.0  \n",
              "17980          49.0       33.0      67.0          32.0         20.0  \n",
              "\n",
              "[15352 rows x 11 columns]"
            ],
            "text/html": [
              "\n",
              "  <div id=\"df-ae42793b-8e41-4d8d-8f3e-4f76e1dfe7f7\">\n",
              "    <div class=\"colab-df-container\">\n",
              "      <div>\n",
              "<style scoped>\n",
              "    .dataframe tbody tr th:only-of-type {\n",
              "        vertical-align: middle;\n",
              "    }\n",
              "\n",
              "    .dataframe tbody tr th {\n",
              "        vertical-align: top;\n",
              "    }\n",
              "\n",
              "    .dataframe thead th {\n",
              "        text-align: right;\n",
              "    }\n",
              "</style>\n",
              "<table border=\"1\" class=\"dataframe\">\n",
              "  <thead>\n",
              "    <tr style=\"text-align: right;\">\n",
              "      <th></th>\n",
              "      <th>Reactions</th>\n",
              "      <th>Potential</th>\n",
              "      <th>Age</th>\n",
              "      <th>Special</th>\n",
              "      <th>Heading accuracy</th>\n",
              "      <th>Value (€)</th>\n",
              "      <th>Sprint speed</th>\n",
              "      <th>Composure</th>\n",
              "      <th>Strength</th>\n",
              "      <th>Ball control</th>\n",
              "      <th>Positioning</th>\n",
              "    </tr>\n",
              "  </thead>\n",
              "  <tbody>\n",
              "    <tr>\n",
              "      <th>0</th>\n",
              "      <td>96.0</td>\n",
              "      <td>94</td>\n",
              "      <td>32</td>\n",
              "      <td>2228</td>\n",
              "      <td>88.0</td>\n",
              "      <td>95500000</td>\n",
              "      <td>91.0</td>\n",
              "      <td>95.0</td>\n",
              "      <td>80.0</td>\n",
              "      <td>93.0</td>\n",
              "      <td>95.0</td>\n",
              "    </tr>\n",
              "    <tr>\n",
              "      <th>1</th>\n",
              "      <td>95.0</td>\n",
              "      <td>93</td>\n",
              "      <td>30</td>\n",
              "      <td>2154</td>\n",
              "      <td>71.0</td>\n",
              "      <td>105000000</td>\n",
              "      <td>87.0</td>\n",
              "      <td>96.0</td>\n",
              "      <td>59.0</td>\n",
              "      <td>95.0</td>\n",
              "      <td>93.0</td>\n",
              "    </tr>\n",
              "    <tr>\n",
              "      <th>2</th>\n",
              "      <td>88.0</td>\n",
              "      <td>94</td>\n",
              "      <td>25</td>\n",
              "      <td>2100</td>\n",
              "      <td>62.0</td>\n",
              "      <td>123000000</td>\n",
              "      <td>90.0</td>\n",
              "      <td>92.0</td>\n",
              "      <td>53.0</td>\n",
              "      <td>95.0</td>\n",
              "      <td>90.0</td>\n",
              "    </tr>\n",
              "    <tr>\n",
              "      <th>3</th>\n",
              "      <td>93.0</td>\n",
              "      <td>92</td>\n",
              "      <td>30</td>\n",
              "      <td>2291</td>\n",
              "      <td>77.0</td>\n",
              "      <td>97000000</td>\n",
              "      <td>77.0</td>\n",
              "      <td>83.0</td>\n",
              "      <td>80.0</td>\n",
              "      <td>91.0</td>\n",
              "      <td>92.0</td>\n",
              "    </tr>\n",
              "    <tr>\n",
              "      <th>5</th>\n",
              "      <td>91.0</td>\n",
              "      <td>91</td>\n",
              "      <td>28</td>\n",
              "      <td>2143</td>\n",
              "      <td>85.0</td>\n",
              "      <td>92000000</td>\n",
              "      <td>83.0</td>\n",
              "      <td>87.0</td>\n",
              "      <td>84.0</td>\n",
              "      <td>89.0</td>\n",
              "      <td>91.0</td>\n",
              "    </tr>\n",
              "    <tr>\n",
              "      <th>...</th>\n",
              "      <td>...</td>\n",
              "      <td>...</td>\n",
              "      <td>...</td>\n",
              "      <td>...</td>\n",
              "      <td>...</td>\n",
              "      <td>...</td>\n",
              "      <td>...</td>\n",
              "      <td>...</td>\n",
              "      <td>...</td>\n",
              "      <td>...</td>\n",
              "      <td>...</td>\n",
              "    </tr>\n",
              "    <tr>\n",
              "      <th>17974</th>\n",
              "      <td>48.0</td>\n",
              "      <td>56</td>\n",
              "      <td>18</td>\n",
              "      <td>1105</td>\n",
              "      <td>43.0</td>\n",
              "      <td>40000</td>\n",
              "      <td>60.0</td>\n",
              "      <td>37.0</td>\n",
              "      <td>42.0</td>\n",
              "      <td>34.0</td>\n",
              "      <td>27.0</td>\n",
              "    </tr>\n",
              "    <tr>\n",
              "      <th>17975</th>\n",
              "      <td>47.0</td>\n",
              "      <td>46</td>\n",
              "      <td>28</td>\n",
              "      <td>1174</td>\n",
              "      <td>38.0</td>\n",
              "      <td>30000</td>\n",
              "      <td>22.0</td>\n",
              "      <td>42.0</td>\n",
              "      <td>37.0</td>\n",
              "      <td>46.0</td>\n",
              "      <td>39.0</td>\n",
              "    </tr>\n",
              "    <tr>\n",
              "      <th>17978</th>\n",
              "      <td>54.0</td>\n",
              "      <td>61</td>\n",
              "      <td>17</td>\n",
              "      <td>1194</td>\n",
              "      <td>47.0</td>\n",
              "      <td>60000</td>\n",
              "      <td>51.0</td>\n",
              "      <td>50.0</td>\n",
              "      <td>32.0</td>\n",
              "      <td>41.0</td>\n",
              "      <td>46.0</td>\n",
              "    </tr>\n",
              "    <tr>\n",
              "      <th>17979</th>\n",
              "      <td>49.0</td>\n",
              "      <td>64</td>\n",
              "      <td>18</td>\n",
              "      <td>1302</td>\n",
              "      <td>40.0</td>\n",
              "      <td>60000</td>\n",
              "      <td>58.0</td>\n",
              "      <td>45.0</td>\n",
              "      <td>46.0</td>\n",
              "      <td>43.0</td>\n",
              "      <td>37.0</td>\n",
              "    </tr>\n",
              "    <tr>\n",
              "      <th>17980</th>\n",
              "      <td>40.0</td>\n",
              "      <td>64</td>\n",
              "      <td>18</td>\n",
              "      <td>1031</td>\n",
              "      <td>48.0</td>\n",
              "      <td>50000</td>\n",
              "      <td>49.0</td>\n",
              "      <td>33.0</td>\n",
              "      <td>67.0</td>\n",
              "      <td>32.0</td>\n",
              "      <td>20.0</td>\n",
              "    </tr>\n",
              "  </tbody>\n",
              "</table>\n",
              "<p>15352 rows × 11 columns</p>\n",
              "</div>\n",
              "      <button class=\"colab-df-convert\" onclick=\"convertToInteractive('df-ae42793b-8e41-4d8d-8f3e-4f76e1dfe7f7')\"\n",
              "              title=\"Convert this dataframe to an interactive table.\"\n",
              "              style=\"display:none;\">\n",
              "        \n",
              "  <svg xmlns=\"http://www.w3.org/2000/svg\" height=\"24px\"viewBox=\"0 0 24 24\"\n",
              "       width=\"24px\">\n",
              "    <path d=\"M0 0h24v24H0V0z\" fill=\"none\"/>\n",
              "    <path d=\"M18.56 5.44l.94 2.06.94-2.06 2.06-.94-2.06-.94-.94-2.06-.94 2.06-2.06.94zm-11 1L8.5 8.5l.94-2.06 2.06-.94-2.06-.94L8.5 2.5l-.94 2.06-2.06.94zm10 10l.94 2.06.94-2.06 2.06-.94-2.06-.94-.94-2.06-.94 2.06-2.06.94z\"/><path d=\"M17.41 7.96l-1.37-1.37c-.4-.4-.92-.59-1.43-.59-.52 0-1.04.2-1.43.59L10.3 9.45l-7.72 7.72c-.78.78-.78 2.05 0 2.83L4 21.41c.39.39.9.59 1.41.59.51 0 1.02-.2 1.41-.59l7.78-7.78 2.81-2.81c.8-.78.8-2.07 0-2.86zM5.41 20L4 18.59l7.72-7.72 1.47 1.35L5.41 20z\"/>\n",
              "  </svg>\n",
              "      </button>\n",
              "      \n",
              "  <style>\n",
              "    .colab-df-container {\n",
              "      display:flex;\n",
              "      flex-wrap:wrap;\n",
              "      gap: 12px;\n",
              "    }\n",
              "\n",
              "    .colab-df-convert {\n",
              "      background-color: #E8F0FE;\n",
              "      border: none;\n",
              "      border-radius: 50%;\n",
              "      cursor: pointer;\n",
              "      display: none;\n",
              "      fill: #1967D2;\n",
              "      height: 32px;\n",
              "      padding: 0 0 0 0;\n",
              "      width: 32px;\n",
              "    }\n",
              "\n",
              "    .colab-df-convert:hover {\n",
              "      background-color: #E2EBFA;\n",
              "      box-shadow: 0px 1px 2px rgba(60, 64, 67, 0.3), 0px 1px 3px 1px rgba(60, 64, 67, 0.15);\n",
              "      fill: #174EA6;\n",
              "    }\n",
              "\n",
              "    [theme=dark] .colab-df-convert {\n",
              "      background-color: #3B4455;\n",
              "      fill: #D2E3FC;\n",
              "    }\n",
              "\n",
              "    [theme=dark] .colab-df-convert:hover {\n",
              "      background-color: #434B5C;\n",
              "      box-shadow: 0px 1px 3px 1px rgba(0, 0, 0, 0.15);\n",
              "      filter: drop-shadow(0px 1px 2px rgba(0, 0, 0, 0.3));\n",
              "      fill: #FFFFFF;\n",
              "    }\n",
              "  </style>\n",
              "\n",
              "      <script>\n",
              "        const buttonEl =\n",
              "          document.querySelector('#df-ae42793b-8e41-4d8d-8f3e-4f76e1dfe7f7 button.colab-df-convert');\n",
              "        buttonEl.style.display =\n",
              "          google.colab.kernel.accessAllowed ? 'block' : 'none';\n",
              "\n",
              "        async function convertToInteractive(key) {\n",
              "          const element = document.querySelector('#df-ae42793b-8e41-4d8d-8f3e-4f76e1dfe7f7');\n",
              "          const dataTable =\n",
              "            await google.colab.kernel.invokeFunction('convertToInteractive',\n",
              "                                                     [key], {});\n",
              "          if (!dataTable) return;\n",
              "\n",
              "          const docLinkHtml = 'Like what you see? Visit the ' +\n",
              "            '<a target=\"_blank\" href=https://colab.research.google.com/notebooks/data_table.ipynb>data table notebook</a>'\n",
              "            + ' to learn more about interactive tables.';\n",
              "          element.innerHTML = '';\n",
              "          dataTable['output_type'] = 'display_data';\n",
              "          await google.colab.output.renderOutput(dataTable, element);\n",
              "          const docLink = document.createElement('div');\n",
              "          docLink.innerHTML = docLinkHtml;\n",
              "          element.appendChild(docLink);\n",
              "        }\n",
              "      </script>\n",
              "    </div>\n",
              "  </div>\n",
              "  "
            ]
          },
          "metadata": {},
          "execution_count": 24
        }
      ]
    },
    {
      "cell_type": "code",
      "source": [
        "!pip install abess\n",
        "from abess.linear import LinearRegression as LinReg"
      ],
      "metadata": {
        "id": "EREb9q2x4TBJ"
      },
      "execution_count": null,
      "outputs": []
    },
    {
      "cell_type": "code",
      "source": [
        "#perform ABESS\n",
        "ts=time.time()\n",
        "mod=LinReg()\n",
        "mod.fit(var.to_numpy(),targ.to_numpy())\n",
        "print(time.time()-ts)"
      ],
      "metadata": {
        "colab": {
          "base_uri": "https://localhost:8080/"
        },
        "id": "gyWi0mxU6z_D",
        "outputId": "273ddf31-28a4-4dcc-ed2d-28b28dbdc800"
      },
      "execution_count": null,
      "outputs": [
        {
          "output_type": "stream",
          "name": "stdout",
          "text": [
            "1.6084558963775635\n"
          ]
        }
      ]
    },
    {
      "cell_type": "code",
      "source": [
        "absv=var[var.columns[np.nonzero(mod.coef_)]]"
      ],
      "metadata": {
        "id": "gVbXtRZA611E"
      },
      "execution_count": null,
      "outputs": []
    },
    {
      "cell_type": "code",
      "source": [
        "#take data from R notebook to get L0Learn's dataframe\n",
        "lol=np.array([1,1,1,0,1,0,0,0,1,1,0,0,0,0,0,0,0,0,0,0,1,0,0,0,0,1,0,1,1,1,0,0,1,1,0,1,0,0,0,0,0,0,0,0,0,0,0,0,0,0,0,0,0,0,0,0,0,0,0,0,0,0,0,0])\n",
        "lol=var[var.columns[np.nonzero(lol)]]\n"
      ],
      "metadata": {
        "id": "G15s4sn7RN9i"
      },
      "execution_count": null,
      "outputs": []
    },
    {
      "cell_type": "code",
      "source": [
        "#create 1 big array of all columns\n",
        "t=np.append(lv.columns,alv)\n",
        "t=np.append(t,vt.columns)\n",
        "t=np.append(t,absv.columns)\n",
        "t=np.append(t,lol.columns)"
      ],
      "metadata": {
        "id": "OaU5r1DGRfz-"
      },
      "execution_count": null,
      "outputs": []
    },
    {
      "cell_type": "code",
      "source": [
        "#figure out which ones share values in other dataframes and which is in each\n",
        "np.unique(t,return_counts=True)"
      ],
      "metadata": {
        "colab": {
          "base_uri": "https://localhost:8080/"
        },
        "id": "W1g9lAkRSkB3",
        "outputId": "4bbf8af0-4c08-41e2-f4e0-461a7fbd04c3"
      },
      "execution_count": null,
      "outputs": [
        {
          "output_type": "execute_result",
          "data": {
            "text/plain": [
              "(array(['Acceleration', 'Age', 'Aggression', 'Agility', 'Balance',\n",
              "        'Ball control', 'Composure', 'Crossing', 'Curve', 'Dribbling',\n",
              "        'Finishing', 'Free kick accuracy', 'GK handling', 'GK kicking',\n",
              "        'GK reflexes', 'Heading accuracy', 'Interceptions', 'Jumping',\n",
              "        'LS', 'LWB', 'Long shots', 'Marking', 'Penalties', 'Positioning',\n",
              "        'Potential', 'RS', 'RWB', 'Reactions', 'ST', 'Short passing',\n",
              "        'Shot power', 'Sliding tackle', 'Special', 'Sprint speed',\n",
              "        'Stamina', 'Standing tackle', 'Strength', 'Value (€)', 'Vision',\n",
              "        'Volleys'], dtype=object),\n",
              " array([4, 5, 1, 1, 2, 5, 5, 1, 1, 1, 1, 2, 1, 2, 1, 5, 1, 1, 1, 1, 2, 3,\n",
              "        1, 5, 5, 1, 1, 5, 1, 4, 1, 1, 3, 5, 4, 1, 5, 4, 3, 1]))"
            ]
          },
          "metadata": {},
          "execution_count": 94
        }
      ]
    },
    {
      "cell_type": "code",
      "source": [
        "absv.columns"
      ],
      "metadata": {
        "colab": {
          "base_uri": "https://localhost:8080/"
        },
        "id": "SBieuAR_TBwa",
        "outputId": "6ddde467-ff87-4c36-c9ba-1cc9f7dc88e5"
      },
      "execution_count": null,
      "outputs": [
        {
          "output_type": "execute_result",
          "data": {
            "text/plain": [
              "Index(['Value (€)', 'Age', 'Potential', 'Acceleration', 'Balance',\n",
              "       'Ball control', 'Composure', 'Crossing', 'Finishing', 'GK kicking',\n",
              "       'Heading accuracy', 'Marking', 'Positioning', 'Reactions',\n",
              "       'Short passing', 'Sprint speed', 'Stamina', 'Strength', 'Vision'],\n",
              "      dtype='object')"
            ]
          },
          "metadata": {},
          "execution_count": 95
        }
      ]
    },
    {
      "cell_type": "code",
      "source": [
        "#R2 for lasso\n",
        "m1=LinearRegression()\n",
        "m1.fit(lv,targ)\n",
        "m1.score(lv,targ)"
      ],
      "metadata": {
        "colab": {
          "base_uri": "https://localhost:8080/"
        },
        "id": "27de1ubGmAeZ",
        "outputId": "02646633-3b06-4b8a-8720-6a0e1d7a7de6"
      },
      "execution_count": null,
      "outputs": [
        {
          "output_type": "execute_result",
          "data": {
            "text/plain": [
              "0.929766220747539"
            ]
          },
          "metadata": {},
          "execution_count": 105
        }
      ]
    },
    {
      "cell_type": "code",
      "source": [
        "#R2 for adaptive lasso\n",
        "m2=LinearRegression()\n",
        "m2.fit(alv2,targ)\n",
        "m2.score(alv2,targ)"
      ],
      "metadata": {
        "colab": {
          "base_uri": "https://localhost:8080/"
        },
        "id": "ApMTtQL1pD2D",
        "outputId": "757a9513-6240-41a6-c5e9-bbd244f290e2"
      },
      "execution_count": null,
      "outputs": [
        {
          "output_type": "execute_result",
          "data": {
            "text/plain": [
              "0.9258953264980461"
            ]
          },
          "metadata": {},
          "execution_count": 108
        }
      ]
    },
    {
      "cell_type": "code",
      "source": [
        "#R2 for ABBES\n",
        "m3=LinearRegression()\n",
        "m3.fit(absv,targ)\n",
        "m3.score(absv,targ)"
      ],
      "metadata": {
        "colab": {
          "base_uri": "https://localhost:8080/"
        },
        "id": "zqNQQtiWr1sM",
        "outputId": "e33cc6f0-2724-420e-e740-e9a6f106391d"
      },
      "execution_count": null,
      "outputs": [
        {
          "output_type": "execute_result",
          "data": {
            "text/plain": [
              "0.9301295280408212"
            ]
          },
          "metadata": {},
          "execution_count": 109
        }
      ]
    },
    {
      "cell_type": "code",
      "source": [
        "#R2 for lasso + forward elimination\n",
        "m4=LinearRegression()\n",
        "m4.fit(vt,targ)\n",
        "m4.score(vt,targ)"
      ],
      "metadata": {
        "colab": {
          "base_uri": "https://localhost:8080/"
        },
        "id": "QtH8wMHMsTOK",
        "outputId": "9c06f59c-7257-4db5-e44d-828b1cd702bc"
      },
      "execution_count": null,
      "outputs": [
        {
          "output_type": "execute_result",
          "data": {
            "text/plain": [
              "0.9266109722306634"
            ]
          },
          "metadata": {},
          "execution_count": 110
        }
      ]
    },
    {
      "cell_type": "code",
      "source": [
        "#R2 for L0Learn\n",
        "m5=LinearRegression()\n",
        "m5.fit(lol,targ)\n",
        "m5.score(lol,targ)"
      ],
      "metadata": {
        "colab": {
          "base_uri": "https://localhost:8080/"
        },
        "id": "xxk1D_qEs4v5",
        "outputId": "8288abde-14ad-4ed4-b7e0-30e138172308"
      },
      "execution_count": null,
      "outputs": [
        {
          "output_type": "execute_result",
          "data": {
            "text/plain": [
              "0.9287436136848077"
            ]
          },
          "metadata": {},
          "execution_count": 112
        }
      ]
    }
  ]
}